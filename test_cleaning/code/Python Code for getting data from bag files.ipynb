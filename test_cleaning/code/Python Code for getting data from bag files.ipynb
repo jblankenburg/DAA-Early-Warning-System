{
 "metadata": {
  "name": "",
  "signature": "sha256:40ab1034aa4db89191a7ddbbe16348625ea76efa6fbf46bb4683610a8b4408fc"
 },
 "nbformat": 3,
 "nbformat_minor": 0,
 "worksheets": [
  {
   "cells": [
    {
     "cell_type": "heading",
     "level": 1,
     "metadata": {},
     "source": [
      "UAV Early Warning System \n"
     ]
    },
    {
     "cell_type": "heading",
     "level": 2,
     "metadata": {},
     "source": [
      "Python for getting data into correct format"
     ]
    },
    {
     "cell_type": "code",
     "collapsed": false,
     "input": [
      "# import appropriate things\n",
      "import yaml\n",
      "import rosbag"
     ],
     "language": "python",
     "metadata": {},
     "outputs": [],
     "prompt_number": 94
    },
    {
     "cell_type": "code",
     "collapsed": false,
     "input": [
      "# Get summary information about a bag\n",
      "fname = '/home/janelle/catkin_tutorial/rosbag/bad/FlightBackward1.bag'\n",
      "info_dict = yaml.load(rosbag.Bag(fname, 'r')._get_yaml_info())\n",
      "\n",
      "info_dict"
     ],
     "language": "python",
     "metadata": {},
     "outputs": [
      {
       "metadata": {},
       "output_type": "pyout",
       "prompt_number": 95,
       "text": [
        "{'compression': 'none',\n",
        " 'duration': 23.839893,\n",
        " 'end': 1455910397.011864,\n",
        " 'indexed': True,\n",
        " 'messages': 1323,\n",
        " 'path': '/home/janelle/catkin_tutorial/rosbag/bad/FlightBackward1.bag',\n",
        " 'size': 204204256,\n",
        " 'start': 1455910373.171971,\n",
        " 'topics': [{'frequency': 25.0713,\n",
        "   'messages': 295,\n",
        "   'topic': '/ardrone/image_raw',\n",
        "   'type': 'sensor_msgs/Image'},\n",
        "  {'frequency': 49.9732,\n",
        "   'messages': 907,\n",
        "   'topic': '/ardrone/navdata',\n",
        "   'type': 'ardrone_autonomy/Navdata'},\n",
        "  {'frequency': 4.996,\n",
        "   'messages': 121,\n",
        "   'topic': '/cmd_vel',\n",
        "   'type': 'geometry_msgs/Twist'}],\n",
        " 'types': [{'md5': 'e1169f766234363125ac62c9a3f87eeb',\n",
        "   'type': 'ardrone_autonomy/Navdata'},\n",
        "  {'md5': '9f195f881246fdfa2798d1d3eebca84a', 'type': 'geometry_msgs/Twist'},\n",
        "  {'md5': '060021388200f6f0f447d0fcd9c64743', 'type': 'sensor_msgs/Image'}],\n",
        " 'version': 2.0}"
       ]
      }
     ],
     "prompt_number": 95
    },
    {
     "cell_type": "code",
     "collapsed": false,
     "input": [
      "# Get list of topics and types from a bag\n",
      "bag = rosbag.Bag(fname)\n",
      "topics = bag.get_type_and_topic_info()[1].keys()\n",
      "types = []\n",
      "for i in range (0, len(bag.get_type_and_topic_info()[1].values())):\n",
      "    types.append(bag.get_type_and_topic_info()[1].values()[i][0])\n",
      "    \n",
      "    \n",
      "topics, types"
     ],
     "language": "python",
     "metadata": {},
     "outputs": [
      {
       "metadata": {},
       "output_type": "pyout",
       "prompt_number": 96,
       "text": [
        "(['/ardrone/navdata', '/ardrone/image_raw', '/cmd_vel'],\n",
        " ['ardrone_autonomy/Navdata', 'sensor_msgs/Image', 'geometry_msgs/Twist'])"
       ]
      }
     ],
     "prompt_number": 96
    },
    {
     "cell_type": "code",
     "collapsed": false,
     "input": [
      "# define callback\n",
      "def callback( data ):\n",
      "#     rospy.loginfo(rospy._get_caller_id())\n",
      "#     Sdata = [data[0],data[1],data[2]]\n",
      "#     print(Sdata)\n",
      "#     print('asdfsdaf')\n",
      "#     return Sdata\n",
      "\n",
      "\n",
      "    # outline of things i need to do:\n",
      "\n",
      "    # create custom message and republish it\n",
      "\n",
      "\n",
      "\n",
      "\n",
      "    return 0\n",
      "\n"
     ],
     "language": "python",
     "metadata": {},
     "outputs": [],
     "prompt_number": 97
    },
    {
     "cell_type": "code",
     "collapsed": false,
     "input": [
      "# time sychronization of messages\n",
      "import rospy\n",
      "import message_filters\n",
      "import sensor_msgs.msg\n",
      "import geometry_msgs.msg\n",
      "import ardrone_autonomy.msg\n",
      "\n",
      "# fxn load bag file\n",
      "def loadBag(filename):\n",
      "\n",
      "    # call init node\n",
      "#     rospy.init_node('my_sub')\n",
      "    \n",
      "    # load topics\n",
      "    bag = rosbag.Bag(filename)\n",
      "    topics = bag.get_type_and_topic_info()[1].keys()\n",
      "    \n",
      "    # set up fake subscribers to capture data\n",
      "#     for item in range(1, len(topics)):\n",
      "#         sub[item] = message_filters.Subscriber(topics[item], types[item])\n",
      "    sub =[]\n",
      "    sub.append(message_filters.Subscriber(topics[1], sensor_msgs.msg.Image))\n",
      "    sub.append(message_filters.Subscriber(topics[2], geometry_msgs.msg.Twist))\n",
      "    sub.append(message_filters.Subscriber(topics[0], ardrone_autonomy.msg.Navdata))\n",
      "    \n",
      "    \n",
      "#     sub = message_filters.Subscriber(\"pose_topic\", robot_msgs.msg.Pose)\n",
      "#     sub.registerCallback(myCallback)\n",
      "    \n",
      "    # Use time synchr to make sure we get properly synchd images\n",
      "    ts = message_filters.ApproximateTimeSynchronizer(sub,10)\n",
      "    ts.registerCallback(callback)\n",
      "    print(ts)\n",
      "    rospy.spin()\n",
      "    \n",
      "    \n",
      "    \n",
      "    # load messages into dataset\n",
      "    \n",
      "    \n",
      "#   \n",
      "    print('\\nLoading Complete\\n')\n",
      "    return \n",
      "\n",
      "    \n",
      "dataaaa = loadBag(fname)   \n",
      "print(dataaaa)"
     ],
     "language": "python",
     "metadata": {},
     "outputs": [
      {
       "output_type": "stream",
       "stream": "stdout",
       "text": [
        "<message_filters.TimeSynchronizer instance at 0x7fce096a0ea8>\n",
        "\n",
        "Loading Complete\n",
        "\n",
        "None\n"
       ]
      }
     ],
     "prompt_number": 98
    },
    {
     "cell_type": "code",
     "collapsed": false,
     "input": [],
     "language": "python",
     "metadata": {},
     "outputs": []
    }
   ],
   "metadata": {}
  }
 ]
}