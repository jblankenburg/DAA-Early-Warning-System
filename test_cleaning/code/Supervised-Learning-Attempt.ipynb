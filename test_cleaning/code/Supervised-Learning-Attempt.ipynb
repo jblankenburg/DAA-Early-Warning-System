{
 "metadata": {
  "language": "lua",
  "name": "",
  "signature": "sha256:d1c92bef297c49d0e20e8f1d43a990844a3e8b8f18c5c34b8f8547031e9e611f"
 },
 "nbformat": 3,
 "nbformat_minor": 0,
 "worksheets": [
  {
   "cells": [
    {
     "cell_type": "heading",
     "level": 1,
     "metadata": {},
     "source": [
      "UAV Early Warning System Training Code\n"
     ]
    },
    {
     "cell_type": "heading",
     "level": 2,
     "metadata": {},
     "source": [
      "Supervised learning attempt"
     ]
    },
    {
     "cell_type": "heading",
     "level": 3,
     "metadata": {},
     "source": [
      "Inputs:   video, state? "
     ]
    },
    {
     "cell_type": "heading",
     "level": 3,
     "metadata": {},
     "source": [
      "Outputs:  motor speeds"
     ]
    },
    {
     "cell_type": "code",
     "collapsed": false,
     "input": [
      "--read in data\n",
      "\n",
      "\n",
      "-- from bag file\n",
      "\n",
      "    -- save video - image_raw\n",
      "\n",
      "    -- save state? - state_estimation\n",
      "\n",
      "    -- save motor speeds? _ cmd vel\n",
      "\n"
     ],
     "language": "python",
     "metadata": {},
     "outputs": []
    }
   ],
   "metadata": {}
  }
 ]
}