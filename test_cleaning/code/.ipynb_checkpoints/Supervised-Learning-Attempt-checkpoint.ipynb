{
 "metadata": {
  "name": "",
  "signature": "sha256:319bcb6be40466997dc6ee81ec0e0ce5e688548ae3b5230db86267fda7a173a5"
 },
 "nbformat": 3,
 "nbformat_minor": 0,
 "worksheets": []
}